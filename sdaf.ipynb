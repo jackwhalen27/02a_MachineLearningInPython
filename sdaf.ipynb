{
 "cells": [
  {
   "cell_type": "code",
   "execution_count": 1,
   "metadata": {},
   "outputs": [],
   "source": [
    "import os\n",
    "import pandas as pd\n",
    "from google.cloud import firestore"
   ]
  },
  {
   "cell_type": "code",
   "execution_count": 11,
   "metadata": {},
   "outputs": [],
   "source": [
    "os.environ[\"GOOGLE_APPLICATION_CREDENTIALS\"] = \"aml-final-project-384918-5f70063a940b.json\""
   ]
  },
  {
   "cell_type": "code",
   "execution_count": 12,
   "metadata": {},
   "outputs": [
    {
     "name": "stdout",
     "output_type": "stream",
     "text": [
      "aml-final-project-384918-5f70063a940b.json\n"
     ]
    }
   ],
   "source": [
    "print(os.environ[\"GOOGLE_APPLICATION_CREDENTIALS\"])"
   ]
  },
  {
   "cell_type": "code",
   "execution_count": 1,
   "metadata": {},
   "outputs": [
    {
     "name": "stdout",
     "output_type": "stream",
     "text": [
      "project-final@aml-final-project-384918.iam.gserviceaccount.com\n"
     ]
    }
   ],
   "source": [
    "from google.oauth2.service_account import Credentials\n",
    "\n",
    "creds = Credentials.from_service_account_file('aml-final-project-384918-b801224e3e8c.json')\n",
    "print(creds.service_account_email)\n"
   ]
  },
  {
   "cell_type": "code",
   "execution_count": 13,
   "metadata": {},
   "outputs": [
    {
     "name": "stdout",
     "output_type": "stream",
     "text": [
      "{'num_comments': 30, 'is_created_from_ads_ui': False, 'archived': False, 'score': 78, 'author_flair_type': 'text', 'is_self': True, 'pwls': 6, 'link_flair_background_color': '', 'visited': False, 'author_flair_css_class': None, 'quarantine': False, 'mod_note': None, 'is_crosspostable': True, 'edited': False, 'media_embed': {}, 'mod_reason_by': None, 'view_count': None, 'domain': 'self.nba', 'author_fullname': 't2_w7n8317e', 'num_reports': None, 'mod_reason_title': None, 'awarders': [], 'gilded': 0, 'hide_score': False, 'discussion_type': None, 'url': 'https://www.reddit.com/r/nba/comments/132ma1i/deaaron_fox_has_more_technical_fouls_than/', 'can_gild': True, 'link_flair_type': 'text', 'created_utc': 1682753248.0, 'approved_at_utc': None, 'title': \"De'Aaron Fox Has More Technical Fouls Than Draymond Green\", 'secure_media': None, 'banned_by': None, 'category': None, 'author_flair_text_color': None, 'subreddit': 'nba', 'banned_at_utc': None, 'no_follow': False, 'pinned': False, 'downs': 0, 'removal_reason': None, 'spoiler': False, 'approved_by': None, 'parent_whitelist_status': 'all_ads', 'is_video': False, 'is_robot_indexable': True, 'media': None, 'over_18': False, 'thumbnail': 'self', 'sentiment': 'positive', 'gildings': {}, 'whitelist_status': 'all_ads', 'is_original_content': False, 'selftext_html': '&lt;!-- SC_OFF --&gt;&lt;div class=\"md\"&gt;&lt;p&gt;After game 6  where Fox was called for a T for god knows why. Meanwhile Draymond&lt;/p&gt;\\n\\n&lt;p&gt;1) Multiple times in this series, yelled to the refs from point blank range 10 seconds uninterrupted&lt;/p&gt;\\n\\n&lt;p&gt;2) Tried a high jump kick against Fox&lt;/p&gt;\\n\\n&lt;p&gt;3)Sat on multiple players and went under them when they jumped/were falling(I don&amp;#39;t even care about the one in Game 1)&lt;/p&gt;\\n\\n&lt;p&gt;4) Hit them after the contact is done and tried to make it look like &amp;quot;the natural motion&amp;quot;&lt;/p&gt;\\n\\n&lt;p&gt;5) As a 230 pound guy, purposefully stomp on a guy (which he got punished for)&lt;/p&gt;\\n\\n&lt;p&gt;Steve &amp;quot;The Code&amp;quot; Kerr after game 6, complained about the refs, saying Jordan Poole didn&amp;#39;t get calls early. English language lacks the word to explain this level of hypocrisy. In the same game Looney elbowed Sabonis in a freaking jump ball and gave him a &amp;quot;black eye&amp;quot;.&lt;/p&gt;\\n\\n&lt;p&gt;I swear to god any other team in history and this guy can&amp;#39;t finish a single game without getting 2 T&amp;#39;s.&lt;/p&gt;\\n&lt;/div&gt;&lt;!-- SC_ON --&gt;', 'media_only': False, 'locked': False, 'send_replies': True, 'all_awardings': [], 'link_flair_text': None, 'mod_reports': [], 'total_awards_received': 0, 'allow_live_comments': False, 'clicked': False, 'upvote_ratio': 0.82, 'distinguished': None, 'selftext': 'After game 6  where Fox was called for a T for god knows why. Meanwhile Draymond\\n\\n1) Multiple times in this series, yelled to the refs from point blank range 10 seconds uninterrupted\\n\\n2) Tried a high jump kick against Fox\\n\\n3)Sat on multiple players and went under them when they jumped/were falling(I don\\'t even care about the one in Game 1)\\n\\n4) Hit them after the contact is done and tried to make it look like \"the natural motion\"\\n\\n5) As a 230 pound guy, purposefully stomp on a guy (which he got punished for)\\n\\nSteve \"The Code\" Kerr after game 6, complained about the refs, saying Jordan Poole didn\\'t get calls early. English language lacks the word to explain this level of hypocrisy. In the same game Looney elbowed Sabonis in a freaking jump ball and gave him a \"black eye\".\\n\\nI swear to god any other team in history and this guy can\\'t finish a single game without getting 2 T\\'s.', 'created': 1682753248.0, 'report_reasons': None, 'author_is_blocked': False, 'subreddit_id': 't5_2qo4s', 'subreddit_subscribers': 7091050, 'num_crossposts': 0, 'treatment_tags': [], 'top_awarded_type': None, 'hidden': False, 'suggested_sort': None, 'thumbnail_height': None, 'contest_mode': False, 'author': 'LogicalRealisticFan', 'subreddit_type': 'public', 'is_reddit_media_domain': False, 'author_patreon_flair': False, 'permalink': '/r/nba/comments/132ma1i/deaaron_fox_has_more_technical_fouls_than/', 'name': 't3_132ma1i', 'author_flair_template_id': None, 'user_reports': [], 'link_flair_richtext': [], 'author_flair_richtext': [], 'saved': False, 'removed_by': None, 'is_meta': False, 'can_mod_post': False, 'author_flair_text': None, 'content_categories': None, 'thumbnail_width': None, 'ups': 78, 'author_flair_background_color': None, 'subreddit_name_prefixed': 'r/nba', 'wls': 6, 'secure_media_embed': {}, 'link_flair_text_color': 'dark', 'likes': None, 'removed_by_category': None, 'link_flair_css_class': None, 'stickied': False, 'author_premium': False, 'id': '132ma1i'}\n"
     ]
    }
   ],
   "source": [
    "import google.auth\n",
    "from google.cloud import firestore\n",
    "\n",
    "# Use the application default credentials\n",
    "credentials, project = google.auth.default()\n",
    "\n",
    "# Explicitly pass credentials to the client library.\n",
    "db = firestore.Client(credentials=credentials, project=project)\n",
    "\n",
    "# Check if you can access the Firestore database\n",
    "print(db.collection('reddit_NBA').document('132ma1i').get().to_dict())"
   ]
  },
  {
   "cell_type": "code",
   "execution_count": null,
   "metadata": {},
   "outputs": [],
   "source": []
  }
 ],
 "metadata": {
  "kernelspec": {
   "display_name": "base",
   "language": "python",
   "name": "python3"
  },
  "language_info": {
   "codemirror_mode": {
    "name": "ipython",
    "version": 3
   },
   "file_extension": ".py",
   "mimetype": "text/x-python",
   "name": "python",
   "nbconvert_exporter": "python",
   "pygments_lexer": "ipython3",
   "version": "3.9.13"
  },
  "orig_nbformat": 4
 },
 "nbformat": 4,
 "nbformat_minor": 2
}
